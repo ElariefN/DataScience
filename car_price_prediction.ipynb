{
 "cells": [
  {
   "cell_type": "markdown",
   "metadata": {},
   "source": [
    "### Read the data, specifying the column names as the file doesn't call for names"
   ]
  },
  {
   "cell_type": "code",
   "execution_count": 3,
   "metadata": {
    "collapsed": false
   },
   "outputs": [
    {
     "data": {
      "text/html": [
       "<div>\n",
       "<style scoped>\n",
       "    .dataframe tbody tr th:only-of-type {\n",
       "        vertical-align: middle;\n",
       "    }\n",
       "\n",
       "    .dataframe tbody tr th {\n",
       "        vertical-align: top;\n",
       "    }\n",
       "\n",
       "    .dataframe thead th {\n",
       "        text-align: right;\n",
       "    }\n",
       "</style>\n",
       "<table border=\"1\" class=\"dataframe\">\n",
       "  <thead>\n",
       "    <tr style=\"text-align: right;\">\n",
       "      <th></th>\n",
       "      <th>symboling</th>\n",
       "      <th>normalized-losses</th>\n",
       "      <th>make</th>\n",
       "      <th>fuel-type</th>\n",
       "      <th>aspiration</th>\n",
       "      <th>num-of-doors</th>\n",
       "      <th>body-style</th>\n",
       "      <th>drive-wheels</th>\n",
       "      <th>engine-location</th>\n",
       "      <th>wheel-base</th>\n",
       "      <th>...</th>\n",
       "      <th>engine-size</th>\n",
       "      <th>fuel-system</th>\n",
       "      <th>bore</th>\n",
       "      <th>stroke</th>\n",
       "      <th>compression-rate</th>\n",
       "      <th>horsepower</th>\n",
       "      <th>peak-rpm</th>\n",
       "      <th>city-mpg</th>\n",
       "      <th>highway-mpg</th>\n",
       "      <th>price</th>\n",
       "    </tr>\n",
       "  </thead>\n",
       "  <tbody>\n",
       "    <tr>\n",
       "      <th>0</th>\n",
       "      <td>3</td>\n",
       "      <td>?</td>\n",
       "      <td>alfa-romero</td>\n",
       "      <td>gas</td>\n",
       "      <td>std</td>\n",
       "      <td>two</td>\n",
       "      <td>convertible</td>\n",
       "      <td>rwd</td>\n",
       "      <td>front</td>\n",
       "      <td>88.6</td>\n",
       "      <td>...</td>\n",
       "      <td>130</td>\n",
       "      <td>mpfi</td>\n",
       "      <td>3.47</td>\n",
       "      <td>2.68</td>\n",
       "      <td>9.0</td>\n",
       "      <td>111</td>\n",
       "      <td>5000</td>\n",
       "      <td>21</td>\n",
       "      <td>27</td>\n",
       "      <td>13495</td>\n",
       "    </tr>\n",
       "    <tr>\n",
       "      <th>1</th>\n",
       "      <td>3</td>\n",
       "      <td>?</td>\n",
       "      <td>alfa-romero</td>\n",
       "      <td>gas</td>\n",
       "      <td>std</td>\n",
       "      <td>two</td>\n",
       "      <td>convertible</td>\n",
       "      <td>rwd</td>\n",
       "      <td>front</td>\n",
       "      <td>88.6</td>\n",
       "      <td>...</td>\n",
       "      <td>130</td>\n",
       "      <td>mpfi</td>\n",
       "      <td>3.47</td>\n",
       "      <td>2.68</td>\n",
       "      <td>9.0</td>\n",
       "      <td>111</td>\n",
       "      <td>5000</td>\n",
       "      <td>21</td>\n",
       "      <td>27</td>\n",
       "      <td>16500</td>\n",
       "    </tr>\n",
       "    <tr>\n",
       "      <th>2</th>\n",
       "      <td>1</td>\n",
       "      <td>?</td>\n",
       "      <td>alfa-romero</td>\n",
       "      <td>gas</td>\n",
       "      <td>std</td>\n",
       "      <td>two</td>\n",
       "      <td>hatchback</td>\n",
       "      <td>rwd</td>\n",
       "      <td>front</td>\n",
       "      <td>94.5</td>\n",
       "      <td>...</td>\n",
       "      <td>152</td>\n",
       "      <td>mpfi</td>\n",
       "      <td>2.68</td>\n",
       "      <td>3.47</td>\n",
       "      <td>9.0</td>\n",
       "      <td>154</td>\n",
       "      <td>5000</td>\n",
       "      <td>19</td>\n",
       "      <td>26</td>\n",
       "      <td>16500</td>\n",
       "    </tr>\n",
       "    <tr>\n",
       "      <th>3</th>\n",
       "      <td>2</td>\n",
       "      <td>164</td>\n",
       "      <td>audi</td>\n",
       "      <td>gas</td>\n",
       "      <td>std</td>\n",
       "      <td>four</td>\n",
       "      <td>sedan</td>\n",
       "      <td>fwd</td>\n",
       "      <td>front</td>\n",
       "      <td>99.8</td>\n",
       "      <td>...</td>\n",
       "      <td>109</td>\n",
       "      <td>mpfi</td>\n",
       "      <td>3.19</td>\n",
       "      <td>3.40</td>\n",
       "      <td>10.0</td>\n",
       "      <td>102</td>\n",
       "      <td>5500</td>\n",
       "      <td>24</td>\n",
       "      <td>30</td>\n",
       "      <td>13950</td>\n",
       "    </tr>\n",
       "    <tr>\n",
       "      <th>4</th>\n",
       "      <td>2</td>\n",
       "      <td>164</td>\n",
       "      <td>audi</td>\n",
       "      <td>gas</td>\n",
       "      <td>std</td>\n",
       "      <td>four</td>\n",
       "      <td>sedan</td>\n",
       "      <td>4wd</td>\n",
       "      <td>front</td>\n",
       "      <td>99.4</td>\n",
       "      <td>...</td>\n",
       "      <td>136</td>\n",
       "      <td>mpfi</td>\n",
       "      <td>3.19</td>\n",
       "      <td>3.40</td>\n",
       "      <td>8.0</td>\n",
       "      <td>115</td>\n",
       "      <td>5500</td>\n",
       "      <td>18</td>\n",
       "      <td>22</td>\n",
       "      <td>17450</td>\n",
       "    </tr>\n",
       "  </tbody>\n",
       "</table>\n",
       "<p>5 rows × 26 columns</p>\n",
       "</div>"
      ],
      "text/plain": [
       "   symboling normalized-losses         make fuel-type aspiration num-of-doors  \\\n",
       "0          3                 ?  alfa-romero       gas        std          two   \n",
       "1          3                 ?  alfa-romero       gas        std          two   \n",
       "2          1                 ?  alfa-romero       gas        std          two   \n",
       "3          2               164         audi       gas        std         four   \n",
       "4          2               164         audi       gas        std         four   \n",
       "\n",
       "    body-style drive-wheels engine-location  wheel-base  ...    engine-size  \\\n",
       "0  convertible          rwd           front        88.6  ...            130   \n",
       "1  convertible          rwd           front        88.6  ...            130   \n",
       "2    hatchback          rwd           front        94.5  ...            152   \n",
       "3        sedan          fwd           front        99.8  ...            109   \n",
       "4        sedan          4wd           front        99.4  ...            136   \n",
       "\n",
       "   fuel-system  bore  stroke compression-rate horsepower  peak-rpm city-mpg  \\\n",
       "0         mpfi  3.47    2.68              9.0        111      5000       21   \n",
       "1         mpfi  3.47    2.68              9.0        111      5000       21   \n",
       "2         mpfi  2.68    3.47              9.0        154      5000       19   \n",
       "3         mpfi  3.19    3.40             10.0        102      5500       24   \n",
       "4         mpfi  3.19    3.40              8.0        115      5500       18   \n",
       "\n",
       "  highway-mpg  price  \n",
       "0          27  13495  \n",
       "1          27  16500  \n",
       "2          26  16500  \n",
       "3          30  13950  \n",
       "4          22  17450  \n",
       "\n",
       "[5 rows x 26 columns]"
      ]
     },
     "execution_count": 3,
     "metadata": {},
     "output_type": "execute_result"
    }
   ],
   "source": [
    "import pandas as pd\n",
    "cols = ['symboling', 'normalized-losses', 'make', 'fuel-type', 'aspiration', 'num-of-doors', 'body-style', \n",
    "        'drive-wheels', 'engine-location', 'wheel-base', 'length', 'width', 'height', 'curb-weight', 'engine-type', \n",
    "        'num-of-cylinders', 'engine-size', 'fuel-system', 'bore', 'stroke', 'compression-rate', 'horsepower', 'peak-rpm', 'city-mpg', 'highway-mpg', 'price']\n",
    "cars = pd.read_csv(\"imports-85.data\", names = cols)\n",
    "cars.head()"
   ]
  },
  {
   "cell_type": "markdown",
   "metadata": {},
   "source": [
    "### Data Cleaning: \n",
    "1. Replace non numerical values in what should be a numerical column\n",
    "2. Convert all columns to numeric, whenever applicable"
   ]
  },
  {
   "cell_type": "code",
   "execution_count": 4,
   "metadata": {
    "collapsed": false
   },
   "outputs": [],
   "source": [
    "import numpy as np\n",
    "cars = cars.replace('?', np.nan)"
   ]
  },
  {
   "cell_type": "code",
   "execution_count": 5,
   "metadata": {
    "collapsed": false
   },
   "outputs": [],
   "source": [
    "cars = cars.apply(pd.to_numeric, errors='ignore')"
   ]
  },
  {
   "cell_type": "code",
   "execution_count": 6,
   "metadata": {
    "collapsed": false
   },
   "outputs": [
    {
     "data": {
      "text/plain": [
       "symboling              int64\n",
       "normalized-losses    float64\n",
       "make                  object\n",
       "fuel-type             object\n",
       "aspiration            object\n",
       "num-of-doors          object\n",
       "body-style            object\n",
       "drive-wheels          object\n",
       "engine-location       object\n",
       "wheel-base           float64\n",
       "length               float64\n",
       "width                float64\n",
       "height               float64\n",
       "curb-weight            int64\n",
       "engine-type           object\n",
       "num-of-cylinders      object\n",
       "engine-size            int64\n",
       "fuel-system           object\n",
       "bore                 float64\n",
       "stroke               float64\n",
       "compression-rate     float64\n",
       "horsepower           float64\n",
       "peak-rpm             float64\n",
       "city-mpg               int64\n",
       "highway-mpg            int64\n",
       "price                float64\n",
       "dtype: object"
      ]
     },
     "execution_count": 6,
     "metadata": {},
     "output_type": "execute_result"
    }
   ],
   "source": [
    "cars.dtypes"
   ]
  },
  {
   "cell_type": "markdown",
   "metadata": {},
   "source": [
    "### Choose the numerical columns only"
   ]
  },
  {
   "cell_type": "code",
   "execution_count": 7,
   "metadata": {
    "collapsed": false
   },
   "outputs": [
    {
     "data": {
      "text/html": [
       "<div>\n",
       "<style scoped>\n",
       "    .dataframe tbody tr th:only-of-type {\n",
       "        vertical-align: middle;\n",
       "    }\n",
       "\n",
       "    .dataframe tbody tr th {\n",
       "        vertical-align: top;\n",
       "    }\n",
       "\n",
       "    .dataframe thead th {\n",
       "        text-align: right;\n",
       "    }\n",
       "</style>\n",
       "<table border=\"1\" class=\"dataframe\">\n",
       "  <thead>\n",
       "    <tr style=\"text-align: right;\">\n",
       "      <th></th>\n",
       "      <th>symboling</th>\n",
       "      <th>normalized-losses</th>\n",
       "      <th>wheel-base</th>\n",
       "      <th>length</th>\n",
       "      <th>width</th>\n",
       "      <th>height</th>\n",
       "      <th>curb-weight</th>\n",
       "      <th>engine-size</th>\n",
       "      <th>bore</th>\n",
       "      <th>stroke</th>\n",
       "      <th>compression-rate</th>\n",
       "      <th>horsepower</th>\n",
       "      <th>peak-rpm</th>\n",
       "      <th>city-mpg</th>\n",
       "      <th>highway-mpg</th>\n",
       "      <th>price</th>\n",
       "    </tr>\n",
       "  </thead>\n",
       "  <tbody>\n",
       "    <tr>\n",
       "      <th>0</th>\n",
       "      <td>3</td>\n",
       "      <td>NaN</td>\n",
       "      <td>88.6</td>\n",
       "      <td>168.8</td>\n",
       "      <td>64.1</td>\n",
       "      <td>48.8</td>\n",
       "      <td>2548</td>\n",
       "      <td>130</td>\n",
       "      <td>3.47</td>\n",
       "      <td>2.68</td>\n",
       "      <td>9.0</td>\n",
       "      <td>111.0</td>\n",
       "      <td>5000.0</td>\n",
       "      <td>21</td>\n",
       "      <td>27</td>\n",
       "      <td>13495.0</td>\n",
       "    </tr>\n",
       "    <tr>\n",
       "      <th>1</th>\n",
       "      <td>3</td>\n",
       "      <td>NaN</td>\n",
       "      <td>88.6</td>\n",
       "      <td>168.8</td>\n",
       "      <td>64.1</td>\n",
       "      <td>48.8</td>\n",
       "      <td>2548</td>\n",
       "      <td>130</td>\n",
       "      <td>3.47</td>\n",
       "      <td>2.68</td>\n",
       "      <td>9.0</td>\n",
       "      <td>111.0</td>\n",
       "      <td>5000.0</td>\n",
       "      <td>21</td>\n",
       "      <td>27</td>\n",
       "      <td>16500.0</td>\n",
       "    </tr>\n",
       "    <tr>\n",
       "      <th>2</th>\n",
       "      <td>1</td>\n",
       "      <td>NaN</td>\n",
       "      <td>94.5</td>\n",
       "      <td>171.2</td>\n",
       "      <td>65.5</td>\n",
       "      <td>52.4</td>\n",
       "      <td>2823</td>\n",
       "      <td>152</td>\n",
       "      <td>2.68</td>\n",
       "      <td>3.47</td>\n",
       "      <td>9.0</td>\n",
       "      <td>154.0</td>\n",
       "      <td>5000.0</td>\n",
       "      <td>19</td>\n",
       "      <td>26</td>\n",
       "      <td>16500.0</td>\n",
       "    </tr>\n",
       "    <tr>\n",
       "      <th>3</th>\n",
       "      <td>2</td>\n",
       "      <td>164.0</td>\n",
       "      <td>99.8</td>\n",
       "      <td>176.6</td>\n",
       "      <td>66.2</td>\n",
       "      <td>54.3</td>\n",
       "      <td>2337</td>\n",
       "      <td>109</td>\n",
       "      <td>3.19</td>\n",
       "      <td>3.40</td>\n",
       "      <td>10.0</td>\n",
       "      <td>102.0</td>\n",
       "      <td>5500.0</td>\n",
       "      <td>24</td>\n",
       "      <td>30</td>\n",
       "      <td>13950.0</td>\n",
       "    </tr>\n",
       "    <tr>\n",
       "      <th>4</th>\n",
       "      <td>2</td>\n",
       "      <td>164.0</td>\n",
       "      <td>99.4</td>\n",
       "      <td>176.6</td>\n",
       "      <td>66.4</td>\n",
       "      <td>54.3</td>\n",
       "      <td>2824</td>\n",
       "      <td>136</td>\n",
       "      <td>3.19</td>\n",
       "      <td>3.40</td>\n",
       "      <td>8.0</td>\n",
       "      <td>115.0</td>\n",
       "      <td>5500.0</td>\n",
       "      <td>18</td>\n",
       "      <td>22</td>\n",
       "      <td>17450.0</td>\n",
       "    </tr>\n",
       "  </tbody>\n",
       "</table>\n",
       "</div>"
      ],
      "text/plain": [
       "   symboling  normalized-losses  wheel-base  length  width  height  \\\n",
       "0          3                NaN        88.6   168.8   64.1    48.8   \n",
       "1          3                NaN        88.6   168.8   64.1    48.8   \n",
       "2          1                NaN        94.5   171.2   65.5    52.4   \n",
       "3          2              164.0        99.8   176.6   66.2    54.3   \n",
       "4          2              164.0        99.4   176.6   66.4    54.3   \n",
       "\n",
       "   curb-weight  engine-size  bore  stroke  compression-rate  horsepower  \\\n",
       "0         2548          130  3.47    2.68               9.0       111.0   \n",
       "1         2548          130  3.47    2.68               9.0       111.0   \n",
       "2         2823          152  2.68    3.47               9.0       154.0   \n",
       "3         2337          109  3.19    3.40              10.0       102.0   \n",
       "4         2824          136  3.19    3.40               8.0       115.0   \n",
       "\n",
       "   peak-rpm  city-mpg  highway-mpg    price  \n",
       "0    5000.0        21           27  13495.0  \n",
       "1    5000.0        21           27  16500.0  \n",
       "2    5000.0        19           26  16500.0  \n",
       "3    5500.0        24           30  13950.0  \n",
       "4    5500.0        18           22  17450.0  "
      ]
     },
     "execution_count": 7,
     "metadata": {},
     "output_type": "execute_result"
    }
   ],
   "source": [
    "cars_numeric = cars.select_dtypes(['number'])\n",
    "cars_numeric.head()"
   ]
  },
  {
   "cell_type": "code",
   "execution_count": 8,
   "metadata": {
    "collapsed": false
   },
   "outputs": [
    {
     "data": {
      "text/plain": [
       "symboling             0\n",
       "normalized-losses    41\n",
       "wheel-base            0\n",
       "length                0\n",
       "width                 0\n",
       "height                0\n",
       "curb-weight           0\n",
       "engine-size           0\n",
       "bore                  4\n",
       "stroke                4\n",
       "compression-rate      0\n",
       "horsepower            2\n",
       "peak-rpm              2\n",
       "city-mpg              0\n",
       "highway-mpg           0\n",
       "price                 4\n",
       "dtype: int64"
      ]
     },
     "execution_count": 8,
     "metadata": {},
     "output_type": "execute_result"
    }
   ],
   "source": [
    "cars_numeric.isnull().sum()"
   ]
  },
  {
   "cell_type": "code",
   "execution_count": 9,
   "metadata": {
    "collapsed": false
   },
   "outputs": [
    {
     "data": {
      "text/plain": [
       "symboling             0\n",
       "normalized-losses    37\n",
       "wheel-base            0\n",
       "length                0\n",
       "width                 0\n",
       "height                0\n",
       "curb-weight           0\n",
       "engine-size           0\n",
       "bore                  4\n",
       "stroke                4\n",
       "compression-rate      0\n",
       "horsepower            2\n",
       "peak-rpm              2\n",
       "city-mpg              0\n",
       "highway-mpg           0\n",
       "price                 0\n",
       "dtype: int64"
      ]
     },
     "execution_count": 9,
     "metadata": {},
     "output_type": "execute_result"
    }
   ],
   "source": [
    "# Idea taken from solution, drop na prices \n",
    "# because this is what we're trying to predict\n",
    "cars_numeric = cars_numeric.dropna(subset=['price'])\n",
    "cars_numeric.isnull().sum()"
   ]
  },
  {
   "cell_type": "code",
   "execution_count": 10,
   "metadata": {
    "collapsed": false
   },
   "outputs": [
    {
     "data": {
      "text/plain": [
       "symboling            0\n",
       "normalized-losses    0\n",
       "wheel-base           0\n",
       "length               0\n",
       "width                0\n",
       "height               0\n",
       "curb-weight          0\n",
       "engine-size          0\n",
       "bore                 0\n",
       "stroke               0\n",
       "compression-rate     0\n",
       "horsepower           0\n",
       "peak-rpm             0\n",
       "city-mpg             0\n",
       "highway-mpg          0\n",
       "price                0\n",
       "dtype: int64"
      ]
     },
     "execution_count": 10,
     "metadata": {},
     "output_type": "execute_result"
    }
   ],
   "source": [
    "# replace the rest with means\n",
    "cars_numeric = cars_numeric.fillna(cars_numeric.mean())\n",
    "cars_numeric.isnull().sum()"
   ]
  },
  {
   "cell_type": "code",
   "execution_count": 11,
   "metadata": {
    "collapsed": false
   },
   "outputs": [],
   "source": [
    "normalized_columns = list(cars_numeric)\n",
    "normalized_columns.remove('price')"
   ]
  },
  {
   "cell_type": "code",
   "execution_count": 12,
   "metadata": {
    "collapsed": false
   },
   "outputs": [],
   "source": [
    "cars_numeric[normalized_columns] = (cars_numeric[normalized_columns] - cars_numeric[normalized_columns].min())/(cars_numeric[normalized_columns].max() - cars_numeric[normalized_columns].min())"
   ]
  },
  {
   "cell_type": "code",
   "execution_count": 13,
   "metadata": {
    "collapsed": false
   },
   "outputs": [
    {
     "data": {
      "text/html": [
       "<div>\n",
       "<style scoped>\n",
       "    .dataframe tbody tr th:only-of-type {\n",
       "        vertical-align: middle;\n",
       "    }\n",
       "\n",
       "    .dataframe tbody tr th {\n",
       "        vertical-align: top;\n",
       "    }\n",
       "\n",
       "    .dataframe thead th {\n",
       "        text-align: right;\n",
       "    }\n",
       "</style>\n",
       "<table border=\"1\" class=\"dataframe\">\n",
       "  <thead>\n",
       "    <tr style=\"text-align: right;\">\n",
       "      <th></th>\n",
       "      <th>symboling</th>\n",
       "      <th>normalized-losses</th>\n",
       "      <th>wheel-base</th>\n",
       "      <th>length</th>\n",
       "      <th>width</th>\n",
       "      <th>height</th>\n",
       "      <th>curb-weight</th>\n",
       "      <th>engine-size</th>\n",
       "      <th>bore</th>\n",
       "      <th>stroke</th>\n",
       "      <th>compression-rate</th>\n",
       "      <th>horsepower</th>\n",
       "      <th>peak-rpm</th>\n",
       "      <th>city-mpg</th>\n",
       "      <th>highway-mpg</th>\n",
       "      <th>price</th>\n",
       "    </tr>\n",
       "  </thead>\n",
       "  <tbody>\n",
       "    <tr>\n",
       "      <th>0</th>\n",
       "      <td>1.0</td>\n",
       "      <td>0.298429</td>\n",
       "      <td>0.058309</td>\n",
       "      <td>0.413433</td>\n",
       "      <td>0.324786</td>\n",
       "      <td>0.083333</td>\n",
       "      <td>0.411171</td>\n",
       "      <td>0.260377</td>\n",
       "      <td>0.664286</td>\n",
       "      <td>0.290476</td>\n",
       "      <td>0.1250</td>\n",
       "      <td>0.294393</td>\n",
       "      <td>0.346939</td>\n",
       "      <td>0.222222</td>\n",
       "      <td>0.289474</td>\n",
       "      <td>13495.0</td>\n",
       "    </tr>\n",
       "    <tr>\n",
       "      <th>1</th>\n",
       "      <td>1.0</td>\n",
       "      <td>0.298429</td>\n",
       "      <td>0.058309</td>\n",
       "      <td>0.413433</td>\n",
       "      <td>0.324786</td>\n",
       "      <td>0.083333</td>\n",
       "      <td>0.411171</td>\n",
       "      <td>0.260377</td>\n",
       "      <td>0.664286</td>\n",
       "      <td>0.290476</td>\n",
       "      <td>0.1250</td>\n",
       "      <td>0.294393</td>\n",
       "      <td>0.346939</td>\n",
       "      <td>0.222222</td>\n",
       "      <td>0.289474</td>\n",
       "      <td>16500.0</td>\n",
       "    </tr>\n",
       "    <tr>\n",
       "      <th>2</th>\n",
       "      <td>0.6</td>\n",
       "      <td>0.298429</td>\n",
       "      <td>0.230321</td>\n",
       "      <td>0.449254</td>\n",
       "      <td>0.444444</td>\n",
       "      <td>0.383333</td>\n",
       "      <td>0.517843</td>\n",
       "      <td>0.343396</td>\n",
       "      <td>0.100000</td>\n",
       "      <td>0.666667</td>\n",
       "      <td>0.1250</td>\n",
       "      <td>0.495327</td>\n",
       "      <td>0.346939</td>\n",
       "      <td>0.166667</td>\n",
       "      <td>0.263158</td>\n",
       "      <td>16500.0</td>\n",
       "    </tr>\n",
       "    <tr>\n",
       "      <th>3</th>\n",
       "      <td>0.8</td>\n",
       "      <td>0.518325</td>\n",
       "      <td>0.384840</td>\n",
       "      <td>0.529851</td>\n",
       "      <td>0.504274</td>\n",
       "      <td>0.541667</td>\n",
       "      <td>0.329325</td>\n",
       "      <td>0.181132</td>\n",
       "      <td>0.464286</td>\n",
       "      <td>0.633333</td>\n",
       "      <td>0.1875</td>\n",
       "      <td>0.252336</td>\n",
       "      <td>0.551020</td>\n",
       "      <td>0.305556</td>\n",
       "      <td>0.368421</td>\n",
       "      <td>13950.0</td>\n",
       "    </tr>\n",
       "    <tr>\n",
       "      <th>4</th>\n",
       "      <td>0.8</td>\n",
       "      <td>0.518325</td>\n",
       "      <td>0.373178</td>\n",
       "      <td>0.529851</td>\n",
       "      <td>0.521368</td>\n",
       "      <td>0.541667</td>\n",
       "      <td>0.518231</td>\n",
       "      <td>0.283019</td>\n",
       "      <td>0.464286</td>\n",
       "      <td>0.633333</td>\n",
       "      <td>0.0625</td>\n",
       "      <td>0.313084</td>\n",
       "      <td>0.551020</td>\n",
       "      <td>0.138889</td>\n",
       "      <td>0.157895</td>\n",
       "      <td>17450.0</td>\n",
       "    </tr>\n",
       "  </tbody>\n",
       "</table>\n",
       "</div>"
      ],
      "text/plain": [
       "   symboling  normalized-losses  wheel-base    length     width    height  \\\n",
       "0        1.0           0.298429    0.058309  0.413433  0.324786  0.083333   \n",
       "1        1.0           0.298429    0.058309  0.413433  0.324786  0.083333   \n",
       "2        0.6           0.298429    0.230321  0.449254  0.444444  0.383333   \n",
       "3        0.8           0.518325    0.384840  0.529851  0.504274  0.541667   \n",
       "4        0.8           0.518325    0.373178  0.529851  0.521368  0.541667   \n",
       "\n",
       "   curb-weight  engine-size      bore    stroke  compression-rate  horsepower  \\\n",
       "0     0.411171     0.260377  0.664286  0.290476            0.1250    0.294393   \n",
       "1     0.411171     0.260377  0.664286  0.290476            0.1250    0.294393   \n",
       "2     0.517843     0.343396  0.100000  0.666667            0.1250    0.495327   \n",
       "3     0.329325     0.181132  0.464286  0.633333            0.1875    0.252336   \n",
       "4     0.518231     0.283019  0.464286  0.633333            0.0625    0.313084   \n",
       "\n",
       "   peak-rpm  city-mpg  highway-mpg    price  \n",
       "0  0.346939  0.222222     0.289474  13495.0  \n",
       "1  0.346939  0.222222     0.289474  16500.0  \n",
       "2  0.346939  0.166667     0.263158  16500.0  \n",
       "3  0.551020  0.305556     0.368421  13950.0  \n",
       "4  0.551020  0.138889     0.157895  17450.0  "
      ]
     },
     "execution_count": 13,
     "metadata": {},
     "output_type": "execute_result"
    }
   ],
   "source": [
    "cars_numeric.head()"
   ]
  },
  {
   "cell_type": "code",
   "execution_count": 14,
   "metadata": {
    "collapsed": false
   },
   "outputs": [
    {
     "data": {
      "text/plain": [
       "curb-weight          2489.232469\n",
       "highway-mpg          2918.998905\n",
       "engine-size          3575.071782\n",
       "city-mpg             3668.709035\n",
       "width                3847.953685\n",
       "horsepower           3852.529178\n",
       "wheel-base           5655.812494\n",
       "compression-rate     5719.875371\n",
       "height               6548.617426\n",
       "length               6995.655270\n",
       "peak-rpm             7181.100435\n",
       "symboling            7589.793518\n",
       "stroke               7746.160621\n",
       "bore                 8251.528615\n",
       "normalized-losses    9255.095138\n",
       "dtype: float64"
      ]
     },
     "execution_count": 14,
     "metadata": {},
     "output_type": "execute_result"
    }
   ],
   "source": [
    "from sklearn.neighbors import KNeighborsRegressor\n",
    "from sklearn.metrics import mean_squared_error\n",
    "\n",
    "def knn_train_test(train_col, target_col, k, df):\n",
    "    # randomize the order of rows\n",
    "    df.reindex(np.random.permutation(df.index))\n",
    "    \n",
    "    # Divide the dataframe into test and train\n",
    "    index = 3*(len(df)//4)\n",
    "    train_df = df.iloc[0:index]\n",
    "    test_df = df.iloc[index+1:]\n",
    "    \n",
    "    # Create and train the model\n",
    "    knn = KNeighborsRegressor(n_neighbors=k)\n",
    "    knn.fit(train_df[[train_col]], train_df[target_col])\n",
    "    predictions = knn.predict(test_df[[train_col]])\n",
    "    return (mean_squared_error(test_df[target_col], predictions))**(1/2)\n",
    "\n",
    "\n",
    "results = {}\n",
    "for col in normalized_columns:\n",
    "    results[col] = knn_train_test(col, 'price', 5, cars_numeric)\n",
    "    \n",
    "result_series = pd.Series(results)\n",
    "result_series.sort_values()  \n",
    "    \n",
    "    \n",
    "    "
   ]
  },
  {
   "cell_type": "code",
   "execution_count": 15,
   "metadata": {
    "collapsed": false
   },
   "outputs": [
    {
     "data": {
      "text/plain": [
       "{'bore': {1: 7567.312096114445,\n",
       "  3: 9675.025988251056,\n",
       "  5: 8251.528614844645,\n",
       "  7: 7862.794215305707,\n",
       "  9: 6580.364314879778},\n",
       " 'city-mpg': {1: 5405.322434415915,\n",
       "  3: 3547.3858067909987,\n",
       "  5: 3668.70903452427,\n",
       "  7: 3448.2042049123934,\n",
       "  9: 3305.555518655462},\n",
       " 'compression-rate': {1: 9668.288045977943,\n",
       "  3: 4339.684951186613,\n",
       "  5: 5719.875370670238,\n",
       "  7: 6640.256451588082,\n",
       "  9: 6260.981626601532},\n",
       " 'curb-weight': {1: 3745.351040957309,\n",
       "  3: 2533.2453774204787,\n",
       "  5: 2489.232468854607,\n",
       "  7: 2677.8346883942163,\n",
       "  9: 2659.9182033278885},\n",
       " 'engine-size': {1: 5104.73543682726,\n",
       "  3: 3858.6664518544053,\n",
       "  5: 3575.0717821045214,\n",
       "  7: 3149.3932693295005,\n",
       "  9: 3118.4948571900823},\n",
       " 'height': {1: 12020.429799304184,\n",
       "  3: 8553.720724534636,\n",
       "  5: 6548.6174261136985,\n",
       "  7: 6262.740193577001,\n",
       "  9: 5495.18664967941},\n",
       " 'highway-mpg': {1: 4238.142154293553,\n",
       "  3: 3990.3289026233306,\n",
       "  5: 2918.998905104282,\n",
       "  7: 2542.7107461068686,\n",
       "  9: 2376.990899913503},\n",
       " 'horsepower': {1: 4991.572369504423,\n",
       "  3: 4298.895862634704,\n",
       "  5: 3852.5291777739985,\n",
       "  7: 3974.107566973691,\n",
       "  9: 3692.5697534640462},\n",
       " 'length': {1: 8426.574406008647,\n",
       "  3: 6040.418646823156,\n",
       "  5: 6995.655270237377,\n",
       "  7: 5898.341678949487,\n",
       "  9: 5097.633862445944},\n",
       " 'normalized-losses': {1: 9848.542193644702,\n",
       "  3: 10802.902505756907,\n",
       "  5: 9255.095138354873,\n",
       "  7: 8003.626045584027,\n",
       "  9: 7370.260837235606},\n",
       " 'peak-rpm': {1: 13008.938475525203,\n",
       "  3: 9534.049972365132,\n",
       "  5: 7181.100435392893,\n",
       "  7: 6973.745942973751,\n",
       "  9: 6709.698509574236},\n",
       " 'stroke': {1: 13845.504200281042,\n",
       "  3: 9839.629417028083,\n",
       "  5: 7746.160621469193,\n",
       "  7: 5917.045386691171,\n",
       "  9: 4874.925945319137},\n",
       " 'symboling': {1: 5518.3163809263415,\n",
       "  3: 5229.647948847884,\n",
       "  5: 7589.793517771086,\n",
       "  7: 7291.5102652443165,\n",
       "  9: 6826.487450157694},\n",
       " 'wheel-base': {1: 3381.8293865894534,\n",
       "  3: 5260.037099995906,\n",
       "  5: 5655.8124941338,\n",
       "  7: 5434.331405809114,\n",
       "  9: 5105.7343415438045},\n",
       " 'width': {1: 6438.3363410123275,\n",
       "  3: 4976.501905511094,\n",
       "  5: 3847.9536849603583,\n",
       "  7: 3388.5427901704775,\n",
       "  9: 3418.1742972196193}}"
      ]
     },
     "execution_count": 15,
     "metadata": {},
     "output_type": "execute_result"
    }
   ],
   "source": [
    "parameterized_results = {}\n",
    "for col in normalized_columns:\n",
    "    values = {}\n",
    "    for k in [1, 3, 5, 7, 9]:\n",
    "        values[k] = knn_train_test(col, 'price', k, cars_numeric)\n",
    "    parameterized_results[col] = values\n",
    "parameterized_results"
   ]
  },
  {
   "cell_type": "code",
   "execution_count": 16,
   "metadata": {
    "collapsed": false
   },
   "outputs": [
    {
     "data": {
      "image/png": "[encoded data removed]",
      "text/plain": [
       "<matplotlib.figure.Figure at 0x7f13de246978>"
      ]
     },
     "metadata": {},
     "output_type": "display_data"
    }
   ],
   "source": [
    "import matplotlib.pyplot as plt\n",
    "%matplotlib inline\n",
    "\n",
    "for k, v in parameterized_results.items():\n",
    "    x = list(v.keys())\n",
    "    y = list(v.values())\n",
    "    plt.plot(x,y, label=k)\n",
    "    plt.xlabel('k value')\n",
    "    plt.ylabel('RMSE')\n",
    "#plt.legend(loc='best')\n",
    "plt.show()   "
   ]
  },
  {
   "cell_type": "code",
   "execution_count": 17,
   "metadata": {
    "collapsed": true
   },
   "outputs": [],
   "source": [
    "# Modify the function to accept a list of train cols\n",
    "def knn_train_test(train_cols, target_col, k, df):\n",
    "    # randomize the order of rows\n",
    "    df.reindex(np.random.permutation(df.index))\n",
    "    \n",
    "    # Divide the dataframe into test and train\n",
    "    index = 3*(len(df)//4)\n",
    "    train_df = df.iloc[0:index]\n",
    "    test_df = df.iloc[index+1:]\n",
    "    \n",
    "    # Create and train the model\n",
    "    knn = KNeighborsRegressor(n_neighbors=k)\n",
    "    knn.fit(train_df[train_cols], train_df[target_col])\n",
    "    predictions = knn.predict(test_df[train_cols])\n",
    "    return (mean_squared_error(test_df[target_col], predictions))**(1/2)"
   ]
  },
  {
   "cell_type": "code",
   "execution_count": 18,
   "metadata": {
    "collapsed": false
   },
   "outputs": [
    {
     "data": {
      "text/plain": [
       "curb-weight          2821.116356\n",
       "highway-mpg          3213.434322\n",
       "engine-size          3761.272359\n",
       "city-mpg             3875.035400\n",
       "horsepower           4161.934946\n",
       "width                4413.901804\n",
       "wheel-base           4967.548946\n",
       "symboling            6491.151113\n",
       "length               6491.724773\n",
       "compression-rate     6525.817289\n",
       "height               7776.138959\n",
       "bore                 7987.405046\n",
       "stroke               8444.653114\n",
       "peak-rpm             8681.506667\n",
       "normalized-losses    9056.085344\n",
       "dtype: float64"
      ]
     },
     "execution_count": 18,
     "metadata": {},
     "output_type": "execute_result"
    }
   ],
   "source": [
    "# Average RMSE accross all features to pick features with the least error\n",
    "averages = {}\n",
    "for feature,pair in parameterized_results.items():\n",
    "    averages[feature] = np.mean(list(pair.values()))\n",
    "averages = pd.Series(averages)\n",
    "averages.sort_values()\n",
    "    "
   ]
  },
  {
   "cell_type": "code",
   "execution_count": 19,
   "metadata": {
    "collapsed": false
   },
   "outputs": [
    {
     "data": {
      "text/plain": [
       "3097.7427797672294"
      ]
     },
     "execution_count": 19,
     "metadata": {},
     "output_type": "execute_result"
    }
   ],
   "source": [
    "# Train with the best 2\n",
    "best_2 = ['curb-weight', 'highway-mpg']\n",
    "features_rmse_2 = knn_train_test(best_2, 'price', 5, cars_numeric)\n",
    "features_rmse_2"
   ]
  },
  {
   "cell_type": "code",
   "execution_count": 20,
   "metadata": {
    "collapsed": false
   },
   "outputs": [
    {
     "data": {
      "text/plain": [
       "2765.4647129189693"
      ]
     },
     "execution_count": 20,
     "metadata": {},
     "output_type": "execute_result"
    }
   ],
   "source": [
    "# Train with the best 3\n",
    "best_3 = best_2 +['engine-size']\n",
    "features_rmse_3 = knn_train_test(best_3, 'price', 5, cars_numeric)\n",
    "features_rmse_3"
   ]
  },
  {
   "cell_type": "code",
   "execution_count": 21,
   "metadata": {
    "collapsed": false
   },
   "outputs": [
    {
     "data": {
      "text/plain": [
       "2353.694399194594"
      ]
     },
     "execution_count": 21,
     "metadata": {},
     "output_type": "execute_result"
    }
   ],
   "source": [
    "# Train with the best 4\n",
    "best_4 = best_3 + ['city-mpg']\n",
    "features_rmse_4 = knn_train_test(best_4, 'price', 5, cars_numeric)\n",
    "features_rmse_4"
   ]
  },
  {
   "cell_type": "code",
   "execution_count": 22,
   "metadata": {
    "collapsed": false
   },
   "outputs": [
    {
     "data": {
      "text/plain": [
       "2662.3487251673096"
      ]
     },
     "execution_count": 22,
     "metadata": {},
     "output_type": "execute_result"
    }
   ],
   "source": [
    "# Train with the best 5\n",
    "best_5 = best_4 + ['horsepower']\n",
    "features_rmse_5 = knn_train_test(best_5, 'price', 5, cars_numeric)\n",
    "features_rmse_5"
   ]
  },
  {
   "cell_type": "code",
   "execution_count": 27,
   "metadata": {
    "collapsed": false
   },
   "outputs": [
    {
     "data": {
      "text/plain": [
       "{'curb-weight,highway-mpg': {1: 3820.066308325027,\n",
       "  2: 3039.325481912064,\n",
       "  3: 3314.785054536384,\n",
       "  4: 2977.479730829414,\n",
       "  5: 3097.7427797672294,\n",
       "  6: 2957.29676901051,\n",
       "  7: 2814.3491794874412,\n",
       "  8: 2682.579834436433,\n",
       "  9: 2615.8502535292205,\n",
       "  10: 2586.8111161814654,\n",
       "  11: 2593.9893798568096,\n",
       "  12: 2643.5270555852294,\n",
       "  13: 2716.40926951861,\n",
       "  14: 2700.4729229435015,\n",
       "  15: 2679.7697557978536,\n",
       "  16: 2606.1083845967773,\n",
       "  17: 2566.987009603681,\n",
       "  18: 2637.220162148389,\n",
       "  19: 2669.6194231033246,\n",
       "  20: 2628.442839648601,\n",
       "  21: 2635.4233996751937,\n",
       "  22: 2635.5198452743075,\n",
       "  23: 2516.195399966555,\n",
       "  24: 2447.631315666343,\n",
       "  25: 2400.3095189612527},\n",
       " 'curb-weight,highway-mpg,engine-size': {1: 3649.5062241349856,\n",
       "  2: 2587.2848789802797,\n",
       "  3: 2696.204097533337,\n",
       "  4: 2721.530064366367,\n",
       "  5: 2765.4647129189693,\n",
       "  6: 2624.5509242323515,\n",
       "  7: 2634.0029847502965,\n",
       "  8: 2694.4478151840312,\n",
       "  9: 2668.4427962371847,\n",
       "  10: 2605.543388470052,\n",
       "  11: 2527.055425386473,\n",
       "  12: 2503.734142347297,\n",
       "  13: 2418.379993340449,\n",
       "  14: 2412.1378632716187,\n",
       "  15: 2428.373859483383,\n",
       "  16: 2462.3912537060646,\n",
       "  17: 2462.77475864804,\n",
       "  18: 2448.4245523561162,\n",
       "  19: 2406.504895283808,\n",
       "  20: 2374.8861411128746,\n",
       "  21: 2337.857552509918,\n",
       "  22: 2337.9152833469902,\n",
       "  23: 2359.3671881233736,\n",
       "  24: 2384.1103486663646,\n",
       "  25: 2382.1793422998194},\n",
       " 'curb-weight,highway-mpg,engine-size,city-mpg': {1: 3957.531574100199,\n",
       "  2: 2420.530490409076,\n",
       "  3: 2454.7920242297964,\n",
       "  4: 2453.3422608250157,\n",
       "  5: 2353.694399194594,\n",
       "  6: 2260.603756005609,\n",
       "  7: 2235.4004589416936,\n",
       "  8: 2181.2784860604115,\n",
       "  9: 2166.539940453498,\n",
       "  10: 2125.9221230327325,\n",
       "  11: 2179.5762743863243,\n",
       "  12: 2227.0891081621417,\n",
       "  13: 2191.388609937387,\n",
       "  14: 2192.3541480587037,\n",
       "  15: 2201.376250863688,\n",
       "  16: 2220.650566222796,\n",
       "  17: 2184.787667891694,\n",
       "  18: 2184.0667292552,\n",
       "  19: 2219.9148876399863,\n",
       "  20: 2187.7287523022596,\n",
       "  21: 2161.639134237412,\n",
       "  22: 2169.953819737505,\n",
       "  23: 2163.107300172715,\n",
       "  24: 2173.6549259925473,\n",
       "  25: 2174.843518262406},\n",
       " 'curb-weight,highway-mpg,engine-size,city-mpg,horsepower': {1: 2703.4902700028347,\n",
       "  2: 2542.378171122463,\n",
       "  3: 2590.7043714017236,\n",
       "  4: 2516.235481329202,\n",
       "  5: 2662.3487251673096,\n",
       "  6: 2476.9469069804463,\n",
       "  7: 2492.6463148670746,\n",
       "  8: 2491.3993943540045,\n",
       "  9: 2433.4264584919943,\n",
       "  10: 2517.231293345925,\n",
       "  11: 2466.741746675843,\n",
       "  12: 2428.0472770772444,\n",
       "  13: 2408.7956749031146,\n",
       "  14: 2334.540789503825,\n",
       "  15: 2277.2934436397177,\n",
       "  16: 2290.343771242376,\n",
       "  17: 2264.4688432863304,\n",
       "  18: 2291.5402972700144,\n",
       "  19: 2281.0278314174143,\n",
       "  20: 2294.0256664867547,\n",
       "  21: 2354.122748221967,\n",
       "  22: 2361.945305382797,\n",
       "  23: 2366.7116825497737,\n",
       "  24: 2376.1658756954334,\n",
       "  25: 2443.61795830363}}"
      ]
     },
     "execution_count": 27,
     "metadata": {},
     "output_type": "execute_result"
    }
   ],
   "source": [
    "multivariate_results = {}\n",
    "for col in [best_2, best_3, best_4, best_5]:\n",
    "    values = {}\n",
    "    for k in range(1, 26):\n",
    "        values[k] = knn_train_test(col, 'price', k, cars_numeric)\n",
    "    multivariate_results[','.join(col)] = values\n",
    "multivariate_results"
   ]
  },
  {
   "cell_type": "code",
   "execution_count": 30,
   "metadata": {
    "collapsed": false
   },
   "outputs": [
    {
     "data": {
      "image/png": "[encoded data removed]",
      "text/plain": [
       "<matplotlib.figure.Figure at 0x7f13da49a2b0>"
      ]
     },
     "metadata": {},
     "output_type": "display_data"
    }
   ],
   "source": [
    "for k, v in multivariate_results.items():\n",
    "    x = list(v.keys())\n",
    "    y = list(v.values())\n",
    "    plt.plot(x, y, label=k)\n",
    "    plt.xlabel('k value')\n",
    "    plt.ylabel('RMSE')\n",
    "    plt.legend(loc='best')"
   ]
  },
  {
   "cell_type": "code",
   "execution_count": null,
   "metadata": {
    "collapsed": true
   },
   "outputs": [],
   "source": []
  }
 ],
 "metadata": {
  "kernelspec": {
   "display_name": "Python 3",
   "language": "python",
   "name": "python3"
  },
  "language_info": {
   "codemirror_mode": {
    "name": "ipython",
    "version": 3
   },
   "file_extension": ".py",
   "mimetype": "text/x-python",
   "name": "python",
   "nbconvert_exporter": "python",
   "pygments_lexer": "ipython3",
   "version": "3.4.3"
  }
 },
 "nbformat": 4,
 "nbformat_minor": 2
}
